{
 "cells": [
  {
   "cell_type": "markdown",
   "metadata": {},
   "source": [
    "# Домашнее задание по курсу \"Динамическая оптимизация в экономике и финансах\" "
   ]
  },
  {
   "cell_type": "markdown",
   "metadata": {},
   "source": [
    "Краевский Артем Андреевич БЭК193"
   ]
  },
  {
   "cell_type": "markdown",
   "metadata": {},
   "source": [
    "Для начала определимся с параметрами, необходимыми для решения задач, исходя из моего ФИО:\n"
   ]
  },
  {
   "cell_type": "code",
   "execution_count": 1,
   "metadata": {},
   "outputs": [],
   "source": [
    "a1 = 12\n",
    "a2 = 18\n",
    "a3 = 1"
   ]
  },
  {
   "cell_type": "code",
   "execution_count": 2,
   "metadata": {},
   "outputs": [],
   "source": [
    "b1 = 1\n",
    "b2 = 18\n",
    "b3 = 20"
   ]
  },
  {
   "cell_type": "code",
   "execution_count": 3,
   "metadata": {},
   "outputs": [],
   "source": [
    "c1 = 1\n",
    "c2 = 15\n",
    "c3 = 5"
   ]
  },
  {
   "cell_type": "markdown",
   "metadata": {},
   "source": [
    "# Задание 1.\n"
   ]
  },
  {
   "cell_type": "markdown",
   "metadata": {},
   "source": [
    "Численно найдите экстремум функционала:\n"
   ]
  },
  {
   "cell_type": "markdown",
   "metadata": {},
   "source": [
    "$$\\int\\limits_0^2 {{y'}^2+ 12y'y+y^2+ye^{2t}dt}$$\n",
    "\n",
    "$$y(0)=-18$$\n",
    "\n",
    "$$y(2)=20$$\n"
   ]
  },
  {
   "cell_type": "markdown",
   "metadata": {},
   "source": [
    "### Решение"
   ]
  },
  {
   "cell_type": "markdown",
   "metadata": {},
   "source": [
    "Для начала импортируем необходимые библиотеки для решения задачи вариационного исчисления\n"
   ]
  },
  {
   "cell_type": "code",
   "execution_count": 4,
   "metadata": {},
   "outputs": [],
   "source": [
    "import math\n",
    "import numpy as np\n",
    "from scipy.optimize import minimize\n",
    "import matplotlib.pyplot as plt"
   ]
  },
  {
   "cell_type": "markdown",
   "metadata": {},
   "source": [
    "Зададим частоту разбиения для дискретной шкалы времени"
   ]
  },
  {
   "cell_type": "code",
   "execution_count": 5,
   "metadata": {},
   "outputs": [],
   "source": [
    "num_of_fractions = 51\n",
    "t = np.linspace(0,2, num_of_fractions)\n",
    "dt = t[1]-t[0]"
   ]
  },
  {
   "cell_type": "markdown",
   "metadata": {},
   "source": [
    "Определим оптимизируемый функционал, будем использовать дискретный аналог интеграла - сумму"
   ]
  },
  {
   "cell_type": "code",
   "execution_count": 6,
   "metadata": {},
   "outputs": [],
   "source": [
    "def f(y):\n",
    "    return np.sum(((y[1:]-y[:-1]) / dt) ** 2 + a1*((y[1:]-y[:-1]) / dt) * y[:1] + b1* y[1:] ** 2 + c1 * y[1:] * np.exp(t[1:]))\n"
   ]
  },
  {
   "cell_type": "markdown",
   "metadata": {},
   "source": [
    "Определим стартовые значения"
   ]
  },
  {
   "cell_type": "code",
   "execution_count": 7,
   "metadata": {},
   "outputs": [],
   "source": [
    "y0 = [1.5 for x in range(0,num_of_fractions)]\n",
    "bounds = [(None, None) for x in range(0,num_of_fractions)]\n",
    "bounds[0], bounds[-1] = (-b2-10e-6, -b2+10e-6), (b3-10e-6, b3+10e-6)\n"
   ]
  },
  {
   "cell_type": "markdown",
   "metadata": {},
   "source": [
    "Посчитаем результат и нарисуем график\n"
   ]
  },
  {
   "cell_type": "code",
   "execution_count": 8,
   "metadata": {},
   "outputs": [],
   "source": [
    "res = minimize(f, y0, method = 'l-bfgs-b', bounds = bounds)"
   ]
  },
  {
   "cell_type": "code",
   "execution_count": 9,
   "metadata": {},
   "outputs": [
    {
     "data": {
      "image/png": "[encoded data removed]",
      "text/plain": [
       "<Figure size 432x288 with 1 Axes>"
      ]
     },
     "metadata": {
      "needs_background": "light"
     },
     "output_type": "display_data"
    }
   ],
   "source": [
    "plt.plot(t, res.x)\n",
    "plt.xlabel('t')\n",
    "plt.ylabel('y')\n",
    "plt.title('Optimal trajectory for minimization')\n",
    "plt.show()"
   ]
  },
  {
   "cell_type": "code",
   "execution_count": 10,
   "metadata": {},
   "outputs": [
    {
     "name": "stdout",
     "output_type": "stream",
     "text": [
      "численное решение задачи оптимизации на заданном функционале с линейным разбиением: [-18.00001    -17.07734964 -16.18139631 -15.31030043 -14.46326592\n",
      " -13.63795211 -12.83394256 -12.04903113 -11.28268726 -10.53314533\n",
      "  -9.79943515  -9.08002028  -8.37389163  -7.6795797   -6.99632401\n",
      "  -6.32265986  -5.65770041  -5.00021883  -4.34894139  -3.70308371\n",
      "  -3.06132078  -2.42290841  -1.78649529  -1.15115586  -0.51547244\n",
      "   0.12159958   0.7611892    1.4045194    2.05250233   2.70643723\n",
      "   3.36738394   4.03633337   4.71468465   5.40316488   6.10344543\n",
      "   6.81641834   7.54376088   8.28644036   9.04601539   9.82346439\n",
      "  10.62029403  11.43800949  12.27798052  13.14212004  14.03187291\n",
      "  14.94875284  15.89458231  16.87077815  17.87913968  18.92164316\n",
      "  20.00001   ]\n"
     ]
    }
   ],
   "source": [
    "print('численное решение задачи оптимизации на заданном функционале с линейным разбиением:', res.x)"
   ]
  },
  {
   "cell_type": "markdown",
   "metadata": {},
   "source": [
    "Убедимся теперь, что верно нашли экстремаль, для этого попробуем максимизировать исходный функционал путём минимизации отрицательного значения заданной дискретной суммы (очевидно, что эти задачи аналогичны друг другу)."
   ]
  },
  {
   "cell_type": "code",
   "execution_count": 11,
   "metadata": {},
   "outputs": [],
   "source": [
    "def f_max(y):\n",
    "    return -np.sum(((y[1:]-y[:-1]) / dt) ** 2 + a1*((y[1:]-y[:-1]) / dt)* y[:1] + b1* y[1:] ** 2 + c1 * y[1:] * np.exp(t[1:]))"
   ]
  },
  {
   "cell_type": "code",
   "execution_count": 12,
   "metadata": {},
   "outputs": [
    {
     "name": "stderr",
     "output_type": "stream",
     "text": [
      "<ipython-input-11-d992e99b1ef3>:2: RuntimeWarning: overflow encountered in square\n",
      "  return -np.sum(((y[1:]-y[:-1]) / dt) ** 2 + a1*((y[1:]-y[:-1]) / dt)* y[:1] + b1* y[1:] ** 2 + c1 * y[1:] * np.exp(t[1:]))\n",
      "D:\\Anaconda\\lib\\site-packages\\scipy\\optimize\\_numdiff.py:497: RuntimeWarning: invalid value encountered in subtract\n",
      "  df = fun(x) - f0\n"
     ]
    }
   ],
   "source": [
    "res_max = minimize(f_max, y0, method = 'l-bfgs-b', bounds = bounds)"
   ]
  },
  {
   "cell_type": "code",
   "execution_count": 13,
   "metadata": {},
   "outputs": [
    {
     "data": {
      "image/png": "[encoded data removed]",
      "text/plain": [
       "<Figure size 432x288 with 1 Axes>"
      ]
     },
     "metadata": {
      "needs_background": "light"
     },
     "output_type": "display_data"
    }
   ],
   "source": [
    "plt.plot(t, res_max.x)\n",
    "plt.xlabel('t')\n",
    "plt.ylabel('y')\n",
    "plt.title('Optimal trajectory for maximization')\n",
    "plt.show()"
   ]
  },
  {
   "cell_type": "markdown",
   "metadata": {},
   "source": [
    "Видим, что не выполняются условия Коши исходной задачи, да и функция совсем не выглядит как что-то гладкое, очевидно - найденный нами минимум является единственным численным решением задачи поиска экстремума."
   ]
  },
  {
   "cell_type": "markdown",
   "metadata": {},
   "source": [
    "# Задание 2\n"
   ]
  },
  {
   "cell_type": "markdown",
   "metadata": {},
   "source": [
    "Численно найдите экстремум функционала: "
   ]
  },
  {
   "cell_type": "markdown",
   "metadata": {},
   "source": [
    "$$\\int\\limits_0^2 {(y - 18u)dt}$$ \n",
    "\n",
    "$$y' = y + u $$\n",
    "\n",
    "$$ y(0) = 12, y(2) \\in \\mathbb{R}$$\n",
    "\n",
    "\n",
    "$$u(t) \\in {[-1, 15]} $$\n"
   ]
  },
  {
   "cell_type": "markdown",
   "metadata": {},
   "source": [
    "### Решение"
   ]
  },
  {
   "cell_type": "markdown",
   "metadata": {},
   "source": [
    "Для начала подгрузим необходимую нам библиотеку (в Юпитере по дефолту она не предустановлена) и инициализируем модель"
   ]
  },
  {
   "cell_type": "code",
   "execution_count": 14,
   "metadata": {},
   "outputs": [
    {
     "name": "stdout",
     "output_type": "stream",
     "text": [
      "Requirement already satisfied: gekko in d:\\anaconda\\lib\\site-packages (1.0.2)\n",
      "Requirement already satisfied: numpy>=1.8 in d:\\anaconda\\lib\\site-packages (from gekko) (1.18.5)\n",
      "Note: you may need to restart the kernel to use updated packages.\n"
     ]
    }
   ],
   "source": [
    "pip install gekko"
   ]
  },
  {
   "cell_type": "code",
   "execution_count": 15,
   "metadata": {},
   "outputs": [],
   "source": [
    "from gekko import GEKKO\n",
    "m = GEKKO(remote=False)\n",
    "nt = 101\n",
    "m.time = np.linspace(0,2,nt)"
   ]
  },
  {
   "cell_type": "markdown",
   "metadata": {},
   "source": [
    "Определим основные переменные"
   ]
  },
  {
   "cell_type": "code",
   "execution_count": 16,
   "metadata": {},
   "outputs": [],
   "source": [
    "y = m.Var(value=a1)\n",
    "z = m.Var(value=0)\n",
    "u = m.Var(value=0, lb = -c1, ub = c2)\n",
    "t = m.Var(value=0)\n",
    "p = np.zeros(nt)\n",
    "p[-1] = 1.0\n",
    "final = m.Param(value=p)"
   ]
  },
  {
   "cell_type": "markdown",
   "metadata": {},
   "source": [
    "Теперь определим исходный функционал и заданные в условии соотношения"
   ]
  },
  {
   "cell_type": "code",
   "execution_count": 17,
   "metadata": {},
   "outputs": [],
   "source": [
    "m.Equation(y.dt()==a3 * y + u)\n",
    "m.Equation(z.dt()==b1 * y - b2 * u)\n",
    "m.Equation(t.dt() == 1)\n",
    "m.Obj(z*final)\n",
    "m.options.IMODE = 6\n",
    "m.solve(disp=False)"
   ]
  },
  {
   "cell_type": "code",
   "execution_count": 18,
   "metadata": {},
   "outputs": [
    {
     "data": {
      "image/png": "[encoded data removed]",
      "text/plain": [
       "<Figure size 432x288 with 1 Axes>"
      ]
     },
     "metadata": {
      "needs_background": "light"
     },
     "output_type": "display_data"
    }
   ],
   "source": [
    "plt.plot(m.time, y.value, 'k-', label=r'$y$')\n",
    "plt.plot(m.time,u.value,'r--',label=r'$u$')\n",
    "plt.legend(loc='best')\n",
    "plt.xlabel('Time')\n",
    "plt.ylabel('Value')\n",
    "plt.show()"
   ]
  },
  {
   "cell_type": "code",
   "execution_count": 19,
   "metadata": {},
   "outputs": [
    {
     "data": {
      "image/png": "[encoded data removed]",
      "text/plain": [
       "<Figure size 432x288 with 1 Axes>"
      ]
     },
     "metadata": {
      "needs_background": "light"
     },
     "output_type": "display_data"
    }
   ],
   "source": [
    "plt.plot(m.time,u.value,'r--',label=r'$u$')\n",
    "plt.xlabel('Time')\n",
    "plt.ylabel('Value')\n",
    "plt.legend(loc='best')\n",
    "plt.show()"
   ]
  },
  {
   "cell_type": "markdown",
   "metadata": {},
   "source": [
    "Заметим, что функция u не имеет \"переключений\" режима управления в силу коэффициента a3 = 1 и линейнойсти оптимизируемого функционала , для такой композиции оптимальный режим постоянен (можно убедиться, что режим будет переключаться, подставив a3 = 2, например, или добавив под интеграл нелинейную зависимость от u)."
   ]
  },
  {
   "cell_type": "code",
   "execution_count": 20,
   "metadata": {},
   "outputs": [
    {
     "name": "stdout",
     "output_type": "stream",
     "text": [
      "Численный экстремум функционала на заданном интервале для линейного разбиения: [12.0, 12.55102041, 13.113286134, 13.687026669, 14.272476194, 14.869873669, 15.479462929, 16.101492786, 16.73621713, 17.383895032, 18.044790851, 18.719174339, 19.407320756, 20.109510977, 20.82603161, 21.557175114, 22.303239914, 23.064530527, 23.841357682, 24.634038453, 25.442896382, 26.268261616, 27.110471039, 27.969868409, 28.846804501, 29.741637248, 30.654731888, 31.586461112, 32.537205219, 33.507352266, 34.497298233, 35.507447179, 36.538211409, 37.590011645, 38.663277191, 39.758446115, 40.875965426, 42.016291254, 43.179889037, 44.367233713, 45.578809914, 46.815112159, 48.076645063, 49.363923536, 50.677472998, 52.017829592, 53.385540403, 54.781163679, 56.205269062, 57.658437821, 59.141263085, 60.654350089, 62.19831642, 63.773792268, 65.381420684, 67.021857843, 68.695773311, 70.40385032, 72.146786043, 73.925291883, 75.740093761, 77.591932411, 79.481563687, 81.409758867, 83.377304969, 85.385005072, 87.433678647, 89.524161887, 91.657308051, 93.833987809, 96.055089603, 98.321520006, 100.63420409, 102.99408581, 105.40212838, 107.85931467, 110.36664763, 112.92515064, 115.53586801, 118.19986531, 120.91822991, 123.69207134, 126.52252178, 129.41073651, 132.3578944, 135.36519837, 138.43387589, 141.56517948, 144.76038723, 148.0208033, 151.34775847, 154.74261069, 158.2067456, 161.74157715, 165.34854811, 169.02913073, 172.78482727, 176.61717069, 180.5277252, 184.51808694, 188.58988463]\n"
     ]
    }
   ],
   "source": [
    "print('Численный экстремум функционала на заданном интервале для линейного разбиения:', y.value)"
   ]
  },
  {
   "cell_type": "markdown",
   "metadata": {},
   "source": [
    "# Задача 6(3). "
   ]
  },
  {
   "cell_type": "markdown",
   "metadata": {},
   "source": [
    "Численно найдите экстремаль следующего функционала:"
   ]
  },
  {
   "cell_type": "markdown",
   "metadata": {},
   "source": [
    "$$\\int\\limits_0^{\\frac{\\pi}{2}} {({y'} ^ 2 - y ^ 2)dt} $$ \n",
    "\n",
    "$$ y(0) = 1, \n",
    "y(\\dfrac{\\pi}{2}) = 2 $$"
   ]
  },
  {
   "cell_type": "markdown",
   "metadata": {},
   "source": [
    "### Решение"
   ]
  },
  {
   "cell_type": "markdown",
   "metadata": {},
   "source": [
    "Зададим частоту разбиения для дискретной шкалы времени"
   ]
  },
  {
   "cell_type": "code",
   "execution_count": 21,
   "metadata": {},
   "outputs": [],
   "source": [
    "num_of_fractions = 51\n",
    "t = np.linspace(0,np.pi/2, num_of_fractions)\n",
    "dt = t[1]-t[0]"
   ]
  },
  {
   "cell_type": "markdown",
   "metadata": {},
   "source": [
    "Определим оптимизируемый функционал, будем использовать дискретный аналог интеграла - сумму"
   ]
  },
  {
   "cell_type": "code",
   "execution_count": 22,
   "metadata": {},
   "outputs": [],
   "source": [
    "def f(y):\n",
    "    return np.sum(((y[1:]-y[:-1]) / dt) ** 2 -y[1:] ** 2 )\n"
   ]
  },
  {
   "cell_type": "markdown",
   "metadata": {},
   "source": [
    "Определим стартовые значения"
   ]
  },
  {
   "cell_type": "code",
   "execution_count": 23,
   "metadata": {},
   "outputs": [],
   "source": [
    "y0 = [1.5 for x in range(0,num_of_fractions)]\n",
    "bounds = [(None, None) for x in range(0,num_of_fractions)]\n",
    "bounds[0], bounds[-1] = (1-10e-6, 1+10e-6), (2-10e-6, 2+10e-6)\n"
   ]
  },
  {
   "cell_type": "code",
   "execution_count": 24,
   "metadata": {},
   "outputs": [],
   "source": [
    "res = minimize(f, y0, method = 'l-bfgs-b', bounds = bounds)"
   ]
  },
  {
   "cell_type": "code",
   "execution_count": 25,
   "metadata": {},
   "outputs": [
    {
     "data": {
      "image/png": "[encoded data removed]",
      "text/plain": [
       "<Figure size 432x288 with 1 Axes>"
      ]
     },
     "metadata": {
      "needs_background": "light"
     },
     "output_type": "display_data"
    }
   ],
   "source": [
    "plt.plot(t, res.x)\n",
    "plt.xlabel('t')\n",
    "plt.ylabel('y')\n",
    "plt.title('Optimal trajectory for minimization')\n",
    "plt.show()"
   ]
  },
  {
   "cell_type": "code",
   "execution_count": 26,
   "metadata": {},
   "outputs": [
    {
     "name": "stdout",
     "output_type": "stream",
     "text": [
      "численное решение задачи оптимизации на заданном функционале с линейным разбиением: [1.00001    1.06235513 1.123651   1.1838353  1.2428501  1.30063552\n",
      " 1.357136   1.41229518 1.46605879 1.51837301 1.56918768 1.61845125\n",
      " 1.6661165  1.71213757 1.75646801 1.7990668  1.839891   1.87889979\n",
      " 1.91605594 1.95131924 1.98465795 2.01603671 2.04542682 2.07280034\n",
      " 2.09812922 2.12138987 2.14255814 2.16161014 2.17852865 2.19329337\n",
      " 2.20589174 2.21631257 2.2245458  2.23058639 2.23442704 2.23606408\n",
      " 2.23549571 2.23271927 2.22774017 2.22056025 2.21118842 2.19963384\n",
      " 2.18590737 2.17002274 2.15199576 2.1318439  2.10958772 2.08525117\n",
      " 2.05885773 2.03043526 2.00001   ]\n"
     ]
    }
   ],
   "source": [
    "print('численное решение задачи оптимизации на заданном функционале с линейным разбиением:', res.x)"
   ]
  },
  {
   "cell_type": "markdown",
   "metadata": {},
   "source": [
    "Убедимся теперь, что верно нашли экстремаль, для этого попробуем максимизировать исходный функционал путём минимизации отрицательного значения заданной дискретной суммы (очевидно, что эти задачи аналогичны друг другу)."
   ]
  },
  {
   "cell_type": "code",
   "execution_count": 27,
   "metadata": {},
   "outputs": [],
   "source": [
    "def f_max(y):\n",
    "    return -np.sum(((y[1:]-y[:-1]) / dt) ** 2 -y[1:] ** 2 )\n"
   ]
  },
  {
   "cell_type": "code",
   "execution_count": 28,
   "metadata": {},
   "outputs": [
    {
     "name": "stderr",
     "output_type": "stream",
     "text": [
      "D:\\Anaconda\\lib\\site-packages\\numpy\\core\\fromnumeric.py:90: RuntimeWarning: overflow encountered in reduce\n",
      "  return ufunc.reduce(obj, axis, dtype, out, **passkwargs)\n",
      "D:\\Anaconda\\lib\\site-packages\\scipy\\optimize\\_numdiff.py:497: RuntimeWarning: invalid value encountered in subtract\n",
      "  df = fun(x) - f0\n",
      "<ipython-input-27-a86019915983>:2: RuntimeWarning: overflow encountered in square\n",
      "  return -np.sum(((y[1:]-y[:-1]) / dt) ** 2 -y[1:] ** 2 )\n",
      "<ipython-input-27-a86019915983>:2: RuntimeWarning: invalid value encountered in subtract\n",
      "  return -np.sum(((y[1:]-y[:-1]) / dt) ** 2 -y[1:] ** 2 )\n"
     ]
    }
   ],
   "source": [
    "res_max = minimize(f_max, y0, method = 'l-bfgs-b', bounds = bounds)"
   ]
  },
  {
   "cell_type": "code",
   "execution_count": 29,
   "metadata": {},
   "outputs": [
    {
     "data": {
      "image/png": "[encoded data removed]",
      "text/plain": [
       "<Figure size 432x288 with 1 Axes>"
      ]
     },
     "metadata": {
      "needs_background": "light"
     },
     "output_type": "display_data"
    }
   ],
   "source": [
    "plt.plot(t, res_max.x)\n",
    "plt.xlabel('t')\n",
    "plt.ylabel('y')\n",
    "plt.title('Optimal trajectory for maximization')\n",
    "plt.show()"
   ]
  },
  {
   "cell_type": "markdown",
   "metadata": {},
   "source": [
    "Видим, что не выполняются условия Коши исходной задачи, да и функция совсем не выглядит как что-то гладкое, очевидно - найденный нами минимум является единственным численным решением задачи поиска экстремума."
   ]
  },
  {
   "cell_type": "markdown",
   "metadata": {},
   "source": [
    "# Задача 7. (4)"
   ]
  },
  {
   "cell_type": "markdown",
   "metadata": {},
   "source": [
    "Численно решите следующую задачу оптимального управления:"
   ]
  },
  {
   "cell_type": "markdown",
   "metadata": {},
   "source": [
    "$$ \\int\\limits_0^{10} {(y(t)-cos(t))^2 + u^2(t)dt} \\to min $$\n",
    "\n",
    "$$y(0) = 0$$\n",
    "$$u(t) \\in \\mathbb{R}$$"
   ]
  },
  {
   "cell_type": "markdown",
   "metadata": {},
   "source": [
    "(a)     $$y'(t) = u(t) $$"
   ]
  },
  {
   "cell_type": "markdown",
   "metadata": {},
   "source": [
    "### Решение"
   ]
  },
  {
   "cell_type": "markdown",
   "metadata": {},
   "source": [
    "Создадим объект класса и зададим шкалу времени линейным разбиением"
   ]
  },
  {
   "cell_type": "code",
   "execution_count": 30,
   "metadata": {},
   "outputs": [],
   "source": [
    "m = GEKKO(remote=False)\n",
    "nt = 201\n",
    "m.time = np.linspace(0,10,nt)"
   ]
  },
  {
   "cell_type": "markdown",
   "metadata": {},
   "source": [
    "Определим основные переменные"
   ]
  },
  {
   "cell_type": "code",
   "execution_count": 31,
   "metadata": {},
   "outputs": [],
   "source": [
    "y = m.Var(value=0)\n",
    "z = m.Var(value=0)\n",
    "u = m.Var(value=0)\n",
    "t = m.Var(value=0)\n",
    "p = np.zeros(nt)\n",
    "p[-1] = 1.0\n",
    "final = m.Param(value=p)"
   ]
  },
  {
   "cell_type": "markdown",
   "metadata": {},
   "source": [
    "Теперь определим исходный функционал и заданные в условии соотношения"
   ]
  },
  {
   "cell_type": "code",
   "execution_count": 32,
   "metadata": {},
   "outputs": [],
   "source": [
    "m.Equation(y.dt()== u)\n",
    "m.Equation(t.dt() == 1)\n",
    "m.Equation(z.dt()== (y-m.cos(t))**2 + u**2)\n",
    "m.Obj(z*final)\n",
    "m.options.IMODE = 6\n",
    "m.solve(disp=False)"
   ]
  },
  {
   "cell_type": "code",
   "execution_count": 33,
   "metadata": {},
   "outputs": [
    {
     "data": {
      "image/png": "[encoded data removed]",
      "text/plain": [
       "<Figure size 432x288 with 1 Axes>"
      ]
     },
     "metadata": {
      "needs_background": "light"
     },
     "output_type": "display_data"
    }
   ],
   "source": [
    "plt.plot(m.time, y.value, 'k-', label=r'$y$')\n",
    "plt.plot(m.time,u.value,'r--',label=r'$u$')\n",
    "plt.legend(loc='best')\n",
    "plt.xlabel('Time')\n",
    "plt.ylabel('Value')\n",
    "plt.show()"
   ]
  },
  {
   "cell_type": "markdown",
   "metadata": {},
   "source": [
    "Замечу, что здесь косинус вызывается через функции объекта класса используемой нами библиотеки, при попытке завернуть переменную объекта gekko в np.cos() или в math.cos() возникает ошибка рассогласования форматов "
   ]
  },
  {
   "cell_type": "code",
   "execution_count": 34,
   "metadata": {},
   "outputs": [
    {
     "name": "stdout",
     "output_type": "stream",
     "text": [
      "Численный экстремум функционала на заданном интервале для линейного разбиения: [0.0, 0.023759164023, 0.045080850305, 0.064027728299, 0.080662747919, 0.095049257965, 0.1072511101, 0.11733274879, 0.12535928757, 0.13139657208, 0.13551123027, 0.13777071012, 0.13824330545, 0.13699817001, 0.13410532049, 0.12963562881, 0.12366080402, 0.11625336447, 0.10748660047, 0.097434528051, 0.086171834227, 0.073773814224, 0.060316301136, 0.045875588498, 0.030528346229, 0.014351530439, -0.0025777124308, -0.020182146653, -0.03838455296, -0.057107838506, -0.076275150572, -0.095809993519, -0.11563634852, -0.13567879558, -0.15586263742, -0.17611402461, -0.19636008172, -0.2165290338, -0.23655033285, -0.25635478381, -0.27587466965, -0.29504387508, -0.31379800847, -0.33207452161, -0.3498128269, -0.36695441146, -0.38344294799, -0.39922440184, -0.414247134, -0.42846199971, -0.44182244228, -0.45428458192, -0.46580729917, -0.47635231279, -0.4858842517, -0.49437072089, -0.50178236093, -0.50809290102, -0.51327920527, -0.51732131212, -0.52020246675, -0.5219091463, -0.5224310779, -0.52176124932, -0.51989591222, -0.51683457797, -0.51258000596, -0.50713818455, -0.5005183044, -0.49273272453, -0.48379693093, -0.47372948795, -0.46255198242, -0.4502889608, -0.43696785934, -0.42261892746, -0.40727514449, -0.39097213011, -0.37374804841, -0.35564350606, -0.33670144474, -0.31696702798, -0.29648752285, -0.27531217666, -0.25349208902, -0.23108007955, -0.20813055155, -0.18469935201, -0.16084362818, -0.13662168124, -0.11209281725, -0.087317195808, -0.062355676813, -0.037269665692, -0.01212095745, 0.013028420058, 0.038116363234, 0.06308084986, 0.087860095829, 0.11239271112, 0.13661785457, 0.1604753872, 0.1839060235, 0.20685148049, 0.22925462415, 0.25105961269, 0.27221203656, 0.29265905469, 0.31234952658, 0.3312341401, 0.34926553447, 0.36639841824, 0.38258968194, 0.39779850516, 0.41198645763, 0.42511759428, 0.43715854387, 0.44807859103, 0.45784975147, 0.46644684021, 0.47384753263, 0.48003241816, 0.48498504654, 0.48869196644, 0.49114275641, 0.49233004803, 0.49224954122, 0.49090001168, 0.48828331034, 0.48440435498, 0.47927111385, 0.47289458144, 0.46528874642, 0.45647055178, 0.44645984735, 0.43527933466, 0.42295450445, 0.40951356677, 0.39498737402, 0.37940933696, 0.36281533395, 0.34524361363, 0.32673469128, 0.30733123899, 0.28707797007, 0.26602151778, 0.24421030885, 0.2216944319, 0.19852550118, 0.17475651589, 0.15044171546, 0.12563643102, 0.10039693352, 0.074780278752, 0.048844149649, 0.022646696265, -0.0037536262715, -0.030298221425, -0.056928516191, -0.083586126933, -0.11021302576, -0.13675170707, -0.16314535389, -0.18933800371, -0.21527471336, -0.24090172264, -0.26616661638, -0.29101848455, -0.3154080801, -0.33928797421, -0.3626127087, -0.3853389452, -0.40742561091, -0.42883404051, -0.44952811427, -0.4694743917, -0.4886422409, -0.50700396317, -0.52453491276, -0.54121361161, -0.55702185887, -0.57194483512, -0.58597120115, -0.59909319117, -0.6113067005, -0.62261136753, -0.63301065005, -0.64251189587, -0.65112640786, -0.65886950327, -0.66576056757, -0.67182310291, -0.6770847711, -0.68157743159, -0.68533717429, -0.68840434772, -0.69082358252, -0.69264381059, -0.69391828029, -0.6947045678, -0.69506458516]\n"
     ]
    }
   ],
   "source": [
    "print('Численный экстремум функционала на заданном интервале для линейного разбиения:', y.value)"
   ]
  },
  {
   "cell_type": "markdown",
   "metadata": {},
   "source": [
    "(b)\n",
    "$$ y'(t) = u(t) + y(t)$$"
   ]
  },
  {
   "cell_type": "markdown",
   "metadata": {},
   "source": [
    "Создадим объект класса и зададим шкалу времени линейным разбиением"
   ]
  },
  {
   "cell_type": "code",
   "execution_count": 35,
   "metadata": {},
   "outputs": [],
   "source": [
    "m = GEKKO(remote=False)\n",
    "nt = 201\n",
    "m.time = np.linspace(0,10,nt)"
   ]
  },
  {
   "cell_type": "markdown",
   "metadata": {},
   "source": [
    "Определим основные переменные"
   ]
  },
  {
   "cell_type": "code",
   "execution_count": 36,
   "metadata": {},
   "outputs": [],
   "source": [
    "y = m.Var(value=0)\n",
    "z = m.Var(value=0)\n",
    "u = m.Var(value=0)\n",
    "t = m.Var(value=0)\n",
    "p = np.zeros(nt)\n",
    "p[-1] = 1.0\n",
    "final = m.Param(value=p)"
   ]
  },
  {
   "cell_type": "markdown",
   "metadata": {},
   "source": [
    "Теперь определим исходный функционал и заданные в условии соотношения"
   ]
  },
  {
   "cell_type": "code",
   "execution_count": 37,
   "metadata": {},
   "outputs": [],
   "source": [
    "m.Equation(y.dt()== u + y)\n",
    "m.Equation(t.dt() == 1)\n",
    "m.Equation(z.dt()== (y-m.cos(t))**2 + u**2)\n",
    "m.Obj(z*final)\n",
    "m.options.IMODE = 6\n",
    "m.solve(disp=False)"
   ]
  },
  {
   "cell_type": "code",
   "execution_count": 38,
   "metadata": {},
   "outputs": [
    {
     "data": {
      "image/png": "[encoded data removed]",
      "text/plain": [
       "<Figure size 432x288 with 1 Axes>"
      ]
     },
     "metadata": {
      "needs_background": "light"
     },
     "output_type": "display_data"
    }
   ],
   "source": [
    "plt.plot(m.time, y.value, 'k-', label=r'$y$')\n",
    "plt.plot(m.time,u.value,'r--',label=r'$u$')\n",
    "plt.legend(loc='best')\n",
    "plt.xlabel('Time')\n",
    "plt.ylabel('Value')\n",
    "plt.show()"
   ]
  },
  {
   "cell_type": "code",
   "execution_count": 39,
   "metadata": {},
   "outputs": [
    {
     "name": "stdout",
     "output_type": "stream",
     "text": [
      "Численный экстремум функционала на заданном интервале для линейного разбиения: [0.0, 0.023294371621, 0.044083055038, 0.062485322521, 0.07861443097, 0.092578177008, 0.10447940708, 0.11441648537, 0.12248372224, 0.12877176556, 0.13336795737, 0.13635665801, 0.13781953968, 0.13783585153, 0.13648265786, 0.13383505136, 0.12996634286, 0.12494822902, 0.1188509397, 0.11174336593, 0.10369317016, 0.094766879749, 0.085029964895, 0.074546902168, 0.063381224607, 0.051595559402, 0.039251654081, 0.026410392128, 0.013131798852, -0.00052496164862, -0.014501597656, -0.028740708393, -0.043185809247, -0.057781362985, -0.072472816295, -0.087206641022, -0.1019303795, -0.11659269341, -0.13114341559, -0.14553360425, -0.15971559917, -0.17364307925, -0.18727112108, -0.20055625802, -0.21345653929, -0.22593158889, -0.23794266363, -0.24945271023, -0.26042642089, -0.27083028715, -0.28063265162, -0.28980375737, -0.29831579464, -0.30614294465, -0.31326142016, -0.31964950277, -0.3252875765, -0.33015815764, -0.33424592056, -0.33753771947, -0.34002260584, -0.34169184147, -0.34253890698, -0.34255950582, -0.34175156348, -0.34011522207, -0.33765283004, -0.33436892721, -0.33027022483, -0.32536558102, -0.31966597129, -0.31318445434, -0.30593613318, -0.29793811162, -0.28920944619, -0.27977109355, -0.26964585362, -0.25885830841, -0.24743475677, -0.23540314516, -0.22279299459, -0.20963532393, -0.19596256978, -0.18180850297, -0.16720814209, -0.152197664, -0.1368143118, -0.12109630027, -0.10508271909, -0.088813434146, -0.072328987004, -0.055670492952, -0.038879537768, -0.021998073502, -0.005068313531, 0.011867372851, 0.028766566057, 0.045586901759, 0.062286176123, 0.078822450441, 0.095154154912, 0.11124019129, 0.12704003415, 0.14251383049, 0.15762249748, 0.17232781795, 0.18659253357, 0.20038043533, 0.21365645109, 0.22638673008, 0.23853872396, 0.25008126435, 0.26098463655, 0.27122064927, 0.28076270012, 0.2895858368, 0.29766681363, 0.30498414338, 0.31151814421, 0.3172509815, 0.32216670457, 0.32625127796, 0.32949260734, 0.33188055982, 0.33340697856, 0.33406569167, 0.33385251521, 0.33276525032, 0.3308036743, 0.32796952572, 0.32426648344, 0.31970013941, 0.31427796553, 0.30800927411, 0.30090517237, 0.29297851063, 0.28424382435, 0.27471727006, 0.2644165551, 0.25336086123, 0.2415707621, 0.22906813474, 0.21587606485, 0.20201874618, 0.18752137382, 0.17241003155, 0.1567115732, 0.14045349809, 0.12366382048, 0.10637093318, 0.088603465065, 0.070390132773, 0.051759586301, 0.032740248591, 0.013360149, -0.006353249444, -0.026373229088, -0.04667400315, -0.067230907816, -0.088020601141, -0.10902126896, -0.13021283811, -0.1515771972, -0.17309842534, -0.1947630292, -0.21656018885, -0.23848201282, -0.26052380305, -0.28268433031, -0.30496612075, -0.3273757544, -0.34992417648, -0.37262702247, -0.39550495793, -0.41858403427, -0.44189606173, -0.46547900087, -0.48937737418, -0.51364269938, -0.53833394613, -0.56351801826, -0.58927026348, -0.61567501291, -0.64282615293, -0.67082773201, -0.6997946054, -0.72985312099, -0.76114184953, -0.79381236298, -0.82803006507, -0.86397507819, -0.9018431913, -0.94184687395, -0.98421636158, -1.0292008181, -1.0770695819, -1.1281135019, -1.1826463711, -1.2410064656, -1.3035581964, -1.3706938844]\n"
     ]
    }
   ],
   "source": [
    "print('Численный экстремум функционала на заданном интервале для линейного разбиения:', y.value)"
   ]
  },
  {
   "cell_type": "markdown",
   "metadata": {},
   "source": [
    "\n",
    "# Задача 8(5)"
   ]
  },
  {
   "cell_type": "markdown",
   "metadata": {},
   "source": [
    "Популяция осиного улья может быть описана следующими уравнениями:\n",
    "$$\\begin{cases}\n",
    "    \\dot x = (\\alpha u(t) - \\beta)x(t), x(0) = 1\\\\\n",
    "    \\dot y = \\gamma(1-u(t))x(t), y(0) = 0\n",
    "  \\end{cases}$$\n",
    "  \n",
    "$$ \\alpha, \\beta, \\gamma \\in \\mathbb{R} ^ {+}$$\n",
    "\n",
    "$$ u(t) \\in [0, 1]$$\n",
    "\n",
    "Численно исследуйте траектории управления и траектории состояния для различных параметров α, β, γ, если задача улья состоит в максимизации числа ос-королев в последний момент\n",
    "времени (его можно выбрать любым, достаточно большим)\n"
   ]
  },
  {
   "cell_type": "markdown",
   "metadata": {},
   "source": [
    "### Решение"
   ]
  },
  {
   "cell_type": "markdown",
   "metadata": {},
   "source": [
    "Библиотека, которую мы используем, видимо, очень придирчива к времени выполнения, поэтому если не ставить адекватные ограничения на параметры и временную шкалу - отказывается решать задачу, опытным путём было установлено, что можно брать все параметры в интервале (0,10] и время из [0,1], однако если брать параметры из (0,1], то время можно брать из интервала [0,15] (возможно, больше, я смотрел в разбиении на 51 подинтервал)"
   ]
  },
  {
   "cell_type": "markdown",
   "metadata": {},
   "source": [
    "Давайте будем решаать задачу для $ t \\in [0,15]$ и $\\alpha, \\beta, \\gamma \\in (0,1]$"
   ]
  },
  {
   "cell_type": "code",
   "execution_count": 171,
   "metadata": {},
   "outputs": [],
   "source": [
    "t_lim = (0, 15)"
   ]
  },
  {
   "cell_type": "markdown",
   "metadata": {},
   "source": [
    "Создадим объект класса и зададим шкалу времени линейным разбиением"
   ]
  },
  {
   "cell_type": "code",
   "execution_count": 172,
   "metadata": {},
   "outputs": [],
   "source": [
    "m = GEKKO(remote= False)\n",
    "nt = 51\n",
    "tm = np.linspace(t_lim[0],t_lim[1], nt)\n",
    "m.time = tm\n",
    "\n",
    "x = m.Var(value=1)\n",
    "y = m.Var(value=0)\n"
   ]
  },
  {
   "cell_type": "markdown",
   "metadata": {},
   "source": [
    "Инициализируем параметры модели и переменную управления"
   ]
  },
  {
   "cell_type": "code",
   "execution_count": 173,
   "metadata": {},
   "outputs": [],
   "source": [
    "alpha_lim = (0,1)\n",
    "beta_lim = (0,1)\n",
    "gamma_lim = (0,1)"
   ]
  },
  {
   "cell_type": "code",
   "execution_count": 174,
   "metadata": {},
   "outputs": [],
   "source": [
    "p = np.zeros(nt)\n",
    "p[-1] = 1.0\n",
    "final = m.Param(value=p)\n",
    "\n",
    "alpha = m.FV(value=1.0, lb=alpha_lim[0], ub = alpha_lim[1])\n",
    "alpha.STATUS = 1\n",
    "\n",
    "beta = m.FV(value=1.0, lb=beta_lim[0], ub = beta_lim[1])\n",
    "beta.STATUS = 1\n",
    "\n",
    "gamma = m.FV(value=1.0, lb=gamma_lim[0], ub = gamma_lim[1])\n",
    "gamma.STATUS = 1\n",
    "\n",
    "u = m.MV(value=0, lb=0, ub=1)\n",
    "u.STATUS = 1"
   ]
  },
  {
   "cell_type": "markdown",
   "metadata": {},
   "source": [
    "Выпишем систему диффуров и зададим оптимизационную задачу максимизации конечного состояния количества ос-королев (у нас это переменная у) - здесь она с минусом, потому что дефолтная задача в библиотеке - минимизация, как мы обсуждали ранее, эта задача будет эквивалентна задаче максимизации."
   ]
  },
  {
   "cell_type": "code",
   "execution_count": 175,
   "metadata": {},
   "outputs": [],
   "source": [
    "\n",
    "m.Equation(x.dt() == (u * alpha-beta)*x)\n",
    "m.Equation(y.dt() == gamma*(1-u)*x)\n",
    "\n",
    "m.Obj(-y)\n",
    "\n",
    "\n",
    "\n",
    "m.options.IMODE = 6\n",
    "m.solve(disp=False)"
   ]
  },
  {
   "cell_type": "markdown",
   "metadata": {},
   "source": [
    "Ну и нарисуем красивы графичек (я ещё отдельно нарисую график для переменной управления, чтобы её не съедали размерности)"
   ]
  },
  {
   "cell_type": "code",
   "execution_count": 176,
   "metadata": {},
   "outputs": [
    {
     "name": "stdout",
     "output_type": "stream",
     "text": [
      "Найденное alpha: 1.0\n",
      "Найденное beta: 0.0\n",
      "Найденное gamma: 1.0\n"
     ]
    },
    {
     "data": {
      "image/png": "[encoded data removed]",
      "text/plain": [
       "<Figure size 432x288 with 1 Axes>"
      ]
     },
     "metadata": {
      "needs_background": "light"
     },
     "output_type": "display_data"
    }
   ],
   "source": [
    "\n",
    "\n",
    "print('Найденное alpha: ' + str(alpha.value[0]))\n",
    "print('Найденное beta: ' + str(beta.value[0]))\n",
    "print('Найденное gamma: ' + str(gamma.value[0]))\n",
    "\n",
    "\n",
    "plt.figure(1)\n",
    "plt.plot(tm, x.value, 'k-', linewidth=2, label=r'$x$')\n",
    "plt.plot(tm, y.value, 'b-', linewidth=2, label=r'$y$')\n",
    "plt.legend(loc='best')\n",
    "plt.xlabel('Time')\n",
    "plt.ylabel('Value')\n",
    "plt.show()"
   ]
  },
  {
   "cell_type": "code",
   "execution_count": 177,
   "metadata": {},
   "outputs": [
    {
     "data": {
      "image/png": "[encoded data removed]",
      "text/plain": [
       "<Figure size 432x288 with 1 Axes>"
      ]
     },
     "metadata": {
      "needs_background": "light"
     },
     "output_type": "display_data"
    }
   ],
   "source": [
    "plt.plot(tm, u.value, 'r--', linewidth=2, label=r'$u$')\n",
    "plt.legend(loc='best')\n",
    "plt.xlabel('Time')\n",
    "plt.ylabel('Value')\n",
    "plt.show()"
   ]
  },
  {
   "cell_type": "markdown",
   "metadata": {},
   "source": [
    "### На всякий случай я проделаю аналогичные действия для достаточно небольших значений времени и больших значений параметров"
   ]
  },
  {
   "cell_type": "code",
   "execution_count": 187,
   "metadata": {},
   "outputs": [
    {
     "name": "stdout",
     "output_type": "stream",
     "text": [
      "Найденное alpha: 10.0\n",
      "Найденное beta: 0.0\n",
      "Найденное gamma: 10.0\n"
     ]
    },
    {
     "data": {
      "image/png": "[encoded data removed]",
      "text/plain": [
       "<Figure size 432x288 with 1 Axes>"
      ]
     },
     "metadata": {
      "needs_background": "light"
     },
     "output_type": "display_data"
    },
    {
     "data": {
      "image/png": "[encoded data removed]",
      "text/plain": [
       "<Figure size 432x288 with 1 Axes>"
      ]
     },
     "metadata": {
      "needs_background": "light"
     },
     "output_type": "display_data"
    }
   ],
   "source": [
    "t_lim = (0, 1)\n",
    "m = GEKKO(remote= False)\n",
    "nt = 51\n",
    "tm = np.linspace(t_lim[0],t_lim[1], nt)\n",
    "m.time = tm\n",
    "\n",
    "x = m.Var(value=1)\n",
    "y = m.Var(value=0)\n",
    "\n",
    "alpha_lim = (0, 10)\n",
    "beta_lim = (0,10)\n",
    "gamma_lim = (0,10)\n",
    "\n",
    "p = np.zeros(nt)\n",
    "p[-1] = 1.0\n",
    "final = m.Param(value=p)\n",
    "\n",
    "alpha = m.FV(value=1.0, lb=alpha_lim[0], ub = alpha_lim[1])\n",
    "alpha.STATUS = 1\n",
    "\n",
    "beta = m.FV(value=1.0, lb=beta_lim[0], ub = beta_lim[1])\n",
    "beta.STATUS = 1\n",
    "\n",
    "gamma = m.FV(value=1.0, lb=gamma_lim[0], ub = gamma_lim[1])\n",
    "gamma.STATUS = 1\n",
    "\n",
    "u = m.MV(value=0, lb=0, ub=1)\n",
    "u.STATUS = 1\n",
    "\n",
    "\n",
    "m.Equation(x.dt() == (u * alpha-beta)*x)\n",
    "m.Equation(y.dt() == gamma*(1-u)*x)\n",
    "\n",
    "m.Obj(-y)\n",
    "\n",
    "\n",
    "\n",
    "m.options.IMODE = 6\n",
    "m.solve(disp=False)\n",
    "\n",
    "\n",
    "\n",
    "print('Найденное alpha: ' + str(alpha.value[0]))\n",
    "print('Найденное beta: ' + str(beta.value[0]))\n",
    "print('Найденное gamma: ' + str(gamma.value[0]))\n",
    "\n",
    "\n",
    "plt.figure(1)\n",
    "plt.plot(tm, x.value, 'k-', linewidth=2, label=r'$x$')\n",
    "plt.plot(tm, y.value, 'b-', linewidth=2, label=r'$y$')\n",
    "plt.legend(loc='best')\n",
    "plt.xlabel('Time')\n",
    "plt.ylabel('Value')\n",
    "plt.show()\n",
    "\n",
    "plt.plot(tm, u.value, 'r--', linewidth=2, label=r'$u$')\n",
    "plt.legend(loc='best')\n",
    "plt.xlabel('Time')\n",
    "plt.ylabel('Value')\n",
    "plt.show()"
   ]
  }
 ],
 "metadata": {
  "kernelspec": {
   "display_name": "Python 3",
   "language": "python",
   "name": "python3"
  },
  "language_info": {
   "codemirror_mode": {
    "name": "ipython",
    "version": 3
   },
   "file_extension": ".py",
   "mimetype": "text/x-python",
   "name": "python",
   "nbconvert_exporter": "python",
   "pygments_lexer": "ipython3",
   "version": "3.8.3"
  }
 },
 "nbformat": 4,
 "nbformat_minor": 2
}
